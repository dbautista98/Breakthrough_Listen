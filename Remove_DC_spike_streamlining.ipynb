{
 "cells": [
  {
   "cell_type": "markdown",
   "metadata": {},
   "source": [
    "This code was originally written by Karen Perez, for GBT C-Band data. I generalized this code to calculate the spike channels for other bands at GBT. It now takes in an h5/filterbank file and its corresponding .dat file\n",
    "\n",
    "Next steps: reduce dependance on having the .h5 file. This can be achieved by making an optional argument for either/both the number of course channels or the width of the course channels"
   ]
  },
  {
   "cell_type": "code",
   "execution_count": 1,
   "metadata": {},
   "outputs": [],
   "source": [
    "import os\n",
    "import sys\n",
    "import numpy as np\n",
    "import matplotlib\n",
    "import matplotlib.pyplot as plt\n",
    "import csv\n",
    "import blimpy as bl\n",
    "import tqdm\n",
    "import glob\n",
    "import pandas as pd\n",
    "import turbo_seti.find_event as find\n",
    "import blimpy as bl\n",
    "import time"
   ]
  },
  {
   "cell_type": "code",
   "execution_count": 2,
   "metadata": {},
   "outputs": [],
   "source": [
    "%matplotlib inline"
   ]
  },
  {
   "cell_type": "code",
   "execution_count": 3,
   "metadata": {},
   "outputs": [],
   "source": [
    "dat_files = [\n",
    "    \"dat_files/GBT_57523_69379_HIP17147_fine.dat\", \n",
    "    \"dat_files/GBT_57606_50058_HIP20901_fine.dat\",\n",
    "    \"dat_files/GBT_57456_02669_HIP39826_fine.dat\",\n",
    "    \"dat_files/GBT_57803_80733_HIP4436_fine.dat\",  \n",
    "    \"dat_files/GBT_57599_55512_HIP45493_fine.dat\", \n",
    "    \"dat_files/GBT_57459_34297_HIP65352_fine.dat\", \n",
    "    \"dat_files/GBT_57650_54573_HIP66704_fine.dat\", \n",
    "    \"dat_files/GBT_57523_22406_HIP74981_fine.dat\", \n",
    "    \"dat_files/GBT_57680_15520_HIP7981_fine.dat\",  \n",
    "    \"dat_files/GBT_57664_79761_HIP82860_fine.dat\" \n",
    "]"
   ]
  },
  {
   "cell_type": "code",
   "execution_count": 4,
   "metadata": {},
   "outputs": [],
   "source": [
    "h5_files = [\n",
    "    \"/mnt_blpd7/datax/dl/GBT_57523_69379_HIP17147_fine.h5\",\n",
    "    \"/mnt_blpd7/datax/dl/GBT_57606_50058_HIP20901_fine.h5\",\n",
    "    \"/mnt_blpd7/datax/dl/GBT_57456_02669_HIP39826_fine.h5\",\n",
    "    \"/mnt_blpd7/datax2/dl/GBT_57803_80733_HIP4436_fine.h5\",\n",
    "    \"/mnt_blpd7/datax/dl/GBT_57599_55512_HIP45493_fine.h5\",\n",
    "    \"/mnt_blpd7/datax/dl/GBT_57459_34297_HIP65352_fine.h5\",\n",
    "    \"/mnt_blpd7/datax2/dl/GBT_57650_54573_HIP66704_fine.h5\",\n",
    "    \"/mnt_blpd7/datax/dl/GBT_57523_22406_HIP74981_fine.h5\",\n",
    "    \"/mnt_blpd7/datax2/dl/GBT_57680_15520_HIP7981_fine.h5\",\n",
    "    \"/mnt_blpd7/datax2/dl/GBT_57664_79761_HIP82860_fine.h5\"\n",
    "]"
   ]
  },
  {
   "cell_type": "code",
   "execution_count": 5,
   "metadata": {},
   "outputs": [],
   "source": [
    "def grab_parameters(h5_file):\n",
    "    \"\"\"takes h5 file of GBT data and returns a list of channels and nfpc\n",
    "\n",
    "    returns channels_list, fch1, foff, nfpc\"\"\"\n",
    "    #read h5 file and grab frequency info from the header\"\n",
    "    test_file = h5_file\n",
    "    fb = bl.Waterfall(test_file, load_data=False)\n",
    "    head = fb.file_header\n",
    "    \n",
    "    fch1 = head[\"fch1\"]\n",
    "    foff = head[\"foff\"]\n",
    "    nchans=head[\"nchans\"]\n",
    "    fch1=float(fch1-(foff/2.0))\n",
    "    \n",
    "    nfpc=(1500.0/512.0)/abs(foff)\n",
    "    channels_list=range(0,nchans+1)\n",
    "    \n",
    "    return channels_list, fch1, foff, nfpc"
   ]
  },
  {
   "cell_type": "markdown",
   "metadata": {},
   "source": [
    "The `spike_channels` function is not a very efficient cell. It would be worth looking into to see if there are more efficient ways to make the list. \n",
    "\n",
    "It seems like we are just making a list that increments at some intervals (hopefully a periodic interval), so it would be worth seeing if we can use a numpy function to make it faster."
   ]
  },
  {
   "cell_type": "code",
   "execution_count": 6,
   "metadata": {},
   "outputs": [],
   "source": [
    "def spike_channels(channels_list, nfpc):\n",
    "    \"\"\"makes a spike channels list given a list of channels\"\"\"\n",
    "    spike_channels_list=[]\n",
    "    for i in channels_list: #should be smaller ~512 -> variable somewhere to store this that can be changed course channels list? \n",
    "        spike_channel=(nfpc/2.0)+(nfpc*i)\n",
    "        spike_channels_list.append(spike_channel)\n",
    "    print ('spike channels list done')\n",
    "    return spike_channels_list"
   ]
  },
  {
   "cell_type": "code",
   "execution_count": null,
   "metadata": {},
   "outputs": [],
   "source": []
  },
  {
   "cell_type": "code",
   "execution_count": 7,
   "metadata": {},
   "outputs": [],
   "source": [
    "def freqs_fine_channels(spike_channels_list, fch1, foff):\n",
    "    \"\"\"docstring here\"\"\"\n",
    "    freqs_fine_channels_list=[]\n",
    "    for index, value in enumerate(spike_channels_list):\n",
    "        freq_fine_channel=fch1+foff*value\n",
    "        if freq_fine_channel>0:\n",
    "            #print ('freq_fine_channel', freq_fine_channel)\n",
    "            #num = str(freq_fine_channel)\n",
    "            #i = num.index(\".\")\n",
    "            #freq_fine_channel = num[:i + 7]\n",
    "            freq_fine_channel=round(freq_fine_channel, 6)\n",
    "            freqs_fine_channels_list.append(freq_fine_channel)\n",
    "        else:\n",
    "            break\n",
    "    #print ('freqs_fine_channels list done', freqs_fine_channels_list)\n",
    "    print ('end')\n",
    "    np.save('freqs_fine_channels_list2.npy', freqs_fine_channels_list)\n",
    "    return freqs_fine_channels_list"
   ]
  },
  {
   "cell_type": "code",
   "execution_count": 8,
   "metadata": {},
   "outputs": [],
   "source": [
    "def wrapper_function(dat_file, freqs_fine_channels_list):\n",
    "    \"\"\"a wrapper function to encapsulate a function that I want to call multiple times\"\"\"\n",
    "    file = dat_file\n",
    "\n",
    "    if True:#\"gpuspec.0000.dat\" in file and (\"A00_0025\" in file or \"C01_0026\" in file or \"C07_0027\" in file or \"A00_0028\" in file or \"C01_0029\" in file or \"C07_0030\" in file or \"A00_0031\" in file or \"C01_0032\" in file):\n",
    "    #if file.endswith(\"gpuspec.0000.dat\") and \"A00_0025\" in file:    \n",
    "        datfile_curr=file\n",
    "        print ('datfile_curr', datfile_curr)\n",
    "        #data=np.loadtxt(datfile_curr)\n",
    "        file_contents = []\n",
    "        # open file you wish to read\n",
    "        with open(datfile_curr, 'r') as infile:\n",
    "            for line in infile:\n",
    "                file_contents.append(line)\n",
    "        with open(datfile_curr+'new.dat', 'w') as outfile:\n",
    "            for index, row in enumerate(file_contents):\n",
    "                #row=row.split('\\t')\n",
    "                #print ('row', row)\n",
    "                if index==0 or index==1 or index==2 or index==3 or index==4 or index==5 or index==6 or index==7 or index==8:\n",
    "                    #newrow=row.strip('\\n')\n",
    "                    newrow=row.strip('\\t')\n",
    "                    #print ('row', newrow)\n",
    "                    outfile.write(newrow)       \n",
    "                else:\n",
    "                    newrow=row.split('\\t')\n",
    "                    #print ('row', row)\n",
    "                    row=row.split('\\t')\n",
    "                    #print ('row_postsplit', row)\n",
    "                    freq=float(newrow[4])-(foff/2.0)\n",
    "                    startfreq=float(newrow[6])-(foff/2.0)\n",
    "                    endfreq=float(newrow[7])-(foff/2.0)\n",
    "                    #freq=freq.strip(' ')\n",
    "                    freq=round(freq, 6)\n",
    "                    startfreq=round(startfreq,6)\n",
    "                    endfreq=round(endfreq,6)\n",
    "                    #print ('freq', freq)\n",
    "                    #row[3]=str(freq)\n",
    "                    #row[4]=str(freq)\n",
    "                    #print ('rowwithadjfreq', row)\n",
    "                    #string='\\t'\n",
    "                    #row = [i + string for i in row]\n",
    "\n",
    "                    minfreq=(float(freq)-0.000001)\n",
    "                    maxfreq=(float(freq)+0.000001)\n",
    "                    #print ('minfreq', minfreq)\n",
    "                    #print ('maxfreq', maxfreq)\n",
    "                    #i= minfreq.index(\".\")\n",
    "                    #minfreq = minfreq[:i + 7]\n",
    "                    minfreq=round(minfreq,6)\n",
    "                    #j= maxfreq.index(\".\")\n",
    "                    #maxfreq = maxfreq[:j + 7]\n",
    "                    maxfreq=round(maxfreq,6)\n",
    "                    #print ('minfreq', minfreq)\n",
    "                    #print ('maxfreq', maxfreq)\n",
    "                    freq=str(freq)\n",
    "                    minfreq=str(minfreq)\n",
    "                    maxfreq=str(maxfreq)\n",
    "                    if len((freq).split('.')[1])<6:\n",
    "                        freq=format(float(freq), '.6f')\n",
    "                    row[3]=str(freq)\n",
    "                    row[4]=str(freq)\n",
    "                    row[6]=str(startfreq)\n",
    "                    row[7]=str(endfreq)\n",
    "                    string='\\t'\n",
    "                    for index,value in enumerate(row[:-1]):\n",
    "                        newvalue=value+string\n",
    "                        row[index]=newvalue\n",
    "                    #row = [i + string for i in row[:-1]]\n",
    "                    if len((minfreq).split('.')[1])<6:\n",
    "                        minfreq=format(float(minfreq), '.6f')\n",
    "                    if len((maxfreq).split('.')[1])<6:\n",
    "                        maxfreq=format(float(maxfreq), '.6f')\n",
    "                    #print ('freq', freq)\n",
    "                    #print ('minfreq', minfreq)\n",
    "                    #print ('maxfreq', maxfreq)\n",
    "                    if float(freq) in freqs_fine_channels_list:\n",
    "                        pass#print ('bad freq', freq)\n",
    "                    elif float(minfreq) in freqs_fine_channels_list:\n",
    "                        pass#print ('bad min freq', minfreq)\n",
    "                    elif float(maxfreq) in freqs_fine_channels_list:\n",
    "                        pass#print ('bad max freq', maxfreq)\n",
    "                    else:\n",
    "                        glue='  '\n",
    "                        #row=row.format()\n",
    "                        row=glue.join(row)\n",
    "                        #row=row.format()\n",
    "                        #print ('finalrow', row)\n",
    "                        outfile.write(str(row))\n",
    "    print(\"done!\\n\")"
   ]
  },
  {
   "cell_type": "markdown",
   "metadata": {},
   "source": [
    "# Importing spectral occupancy functions\n",
    "\n",
    "Need to make this a class so that I can import it without getting errors"
   ]
  },
  {
   "cell_type": "code",
   "execution_count": 9,
   "metadata": {},
   "outputs": [],
   "source": [
    "def calculate_hist(dat_file, bin_width=1): \n",
    "    \"\"\"calculates a histogram of the number of hits for a single .dat file\"\"\"\n",
    "    #read the file into a pandas dataframe\n",
    "    tbl = find.read_dat(dat_file)\n",
    "\n",
    "    #make the bins for the histogram\n",
    "    min_freq = int(min(tbl[\"Freq\"]))\n",
    "    max_freq = np.round(max(tbl[\"Freq\"]))\n",
    "    bins = np.linspace(min_freq, max_freq, int((max_freq-min_freq)/bin_width) , endpoint=True)\n",
    "    hist, bin_edges = np.histogram(tbl[\"Freq\"], bins=bins)\n",
    "    return hist, bin_edges"
   ]
  },
  {
   "cell_type": "code",
   "execution_count": 10,
   "metadata": {},
   "outputs": [],
   "source": [
    "def calculate_proportion(file_list, bin_width=1, GBT=False):\n",
    "    \"\"\"Takes in a list of .dat files and makes a true/false table of hits in a frequency bin\"\"\"\n",
    "    edges = []\n",
    "    histograms = []\n",
    "    min_freq = 0\n",
    "    max_freq = 1e9\n",
    "    \n",
    "    #calculate histogram for the .dat file and check the boundaries on the data\n",
    "    for file in file_list:\n",
    "        hist, bin_edges = calculate_hist(file, bin_width)\n",
    "        if min(bin_edges) > min_freq:\n",
    "            min_freq = min(bin_edges)\n",
    "        if max(bin_edges) < max_freq:\n",
    "            max_freq = max(bin_edges)\n",
    "        edges.append(bin_edges)\n",
    "        histograms.append(hist)\n",
    "    \n",
    "    #make sure all lists are within the boundaries\n",
    "    for i in range(len(edges)):\n",
    "        within_boundaries = np.where( (edges[i] >= min_freq) & (edges[i] <= max_freq) ) #get the boundaries of the tightest frequency range\n",
    "        edges[i] = edges[i][within_boundaries] # take only the entries within that range\n",
    "        freq_boundaries = within_boundaries[0][:-1] # since the bins list has one more entry than frequencies, I will drop the last entry. the hit count will correspond with the frequency at the start of its bin\n",
    "        histograms[i] = histograms[i][freq_boundaries] # take only the entries within that range\n",
    "        \n",
    "    #create the dataframe and add the frequency bins to column 0\n",
    "    df = pd.DataFrame()\n",
    "    df.insert(0, \"freq\", edges[0][:-1])\n",
    "    \n",
    "    #check if there is a hit in the frequency bin and insert value to dataframe\n",
    "    for i in range(len(histograms)):\n",
    "        colname = \"file\"+str(i)\n",
    "        found_hit = histograms[i] > 0\n",
    "        df.insert(len(df.columns), colname, found_hit.astype(int))\n",
    "    \n",
    "    #exclude entries in the GBT data due to the notch filter exclusion\n",
    "    bin_edges = np.linspace(min_freq, max_freq, int((max_freq-min_freq)/bin_width), endpoint=True)\n",
    "    if GBT:\n",
    "        df = df[(df[\"freq\"] < 1200) | (df[\"freq\"] > 1341)]\n",
    "        first_edge = np.arange(min_freq, 1200, bin_width)\n",
    "        second_edge= np.arange(1341, max_freq, bin_width) #may or may not need max_freq+1\n",
    "        bin_edges = np.append(first_edge, second_edge)\n",
    "    \n",
    "        \n",
    "    # sum up the number of entries that have a hit and divide by the number of .dat files\n",
    "    data_labels = df.columns[2:]\n",
    "    total = df[\"file0\"]\n",
    "    for label in data_labels:\n",
    "        total = total + df[label]\n",
    "    \n",
    "    return bin_edges, total/len(file_list) "
   ]
  },
  {
   "cell_type": "markdown",
   "metadata": {},
   "source": [
    "# Changing some of the old functions to make them less dependant on having access to the original h5 file \n",
    "\n",
    "My goal is to make the `grab_parameters` function no longer dependant on the h5 file, potentially with the ability to pass in the parameters that will work for the set of files as a whole\n",
    "\n",
    "~I cannot get the correct DC removal with a fixed value of `foff`. I need to see if there is a way to get its value from something in the dat file~\n",
    "\n",
    "I was able to get the `foff` value from the `.dat` file. The value from the dat file only has 7 sig figs, while the h5 file provides 16 sig figs, however, the resulting spectral occupancy plots look the same\n",
    "\n",
    "Pulling the first frequency from the dat file `tbl[\"Freq\"][0]` does *not* return the correct DC spike removal.\n",
    "\n",
    "**Note:** Hardcoding the highest frequency to 1926.2695326677515 Mhz does return the usual spectral occupancy plot, but I would like to find a way to make it more general, so that I can apply it to other bands"
   ]
  },
  {
   "cell_type": "code",
   "execution_count": 11,
   "metadata": {},
   "outputs": [],
   "source": [
    "def grab_parameters_modified(dat_file):\n",
    "    \"\"\"takes h5 file of GBT data and returns a list of channels and nfpc\n",
    "\n",
    "    returns channels_list, fch1, foff, nfpc\"\"\"\n",
    "    #read h5 file and grab frequency info from the header\"\n",
    "    #test_file = h5_file\n",
    "    #fb = bl.Waterfall(test_file, load_data=False)\n",
    "    #head = fb.file_header\n",
    "    \n",
    "    tbl = find.read_dat(dat_file)\n",
    "    \n",
    "    fch1 = 1926.2695326677515 # this is hardcoded, and it would be nice to fix that\n",
    "    foff = float(tbl[\"DELTAF\"][0])*1e-6 #head[\"foff\"]#\n",
    "    #nchans=head[\"nchans\"]\n",
    "    #fch1=float(fch1-(foff/2.0))\n",
    "    \n",
    "    nfpc=(1500.0/512.0)/abs(foff)\n",
    "    #channels_list=range(0,nchans+1)\n",
    "    \n",
    "    return fch1, foff, nfpc"
   ]
  },
  {
   "cell_type": "code",
   "execution_count": 12,
   "metadata": {},
   "outputs": [],
   "source": [
    "def spike_channels_modified(num_course_channels, nfpc):\n",
    "    \"\"\"makes a spike channels list given a list of channels\"\"\"\n",
    "    spike_channels_list=[]\n",
    "    for i in np.arange(num_course_channels): #channels_list: #should be smaller ~512 -> variable somewhere to store this that can be changed course channels list? \n",
    "        spike_channel=(nfpc/2.0)+(nfpc*i)\n",
    "        spike_channels_list.append(spike_channel)\n",
    "    print ('spike channels list done')\n",
    "    return spike_channels_list"
   ]
  },
  {
   "cell_type": "markdown",
   "metadata": {},
   "source": [
    "I will now try to run this modified number of course channels (512) and see how that changes the calculated spectal occupancy\n",
    "\n",
    "#### Using 512 as the number of course channels worked to remove the DC spikes from all the test files. "
   ]
  },
  {
   "cell_type": "code",
   "execution_count": 13,
   "metadata": {},
   "outputs": [
    {
     "name": "stdout",
     "output_type": "stream",
     "text": [
      "There are 10 files\n"
     ]
    },
    {
     "data": {
      "text/plain": [
       "['dat_files/GBT_57523_69379_HIP17147_fine.datnew.dat',\n",
       " 'dat_files/GBT_57606_50058_HIP20901_fine.datnew.dat',\n",
       " 'dat_files/GBT_57456_02669_HIP39826_fine.datnew.dat',\n",
       " 'dat_files/GBT_57803_80733_HIP4436_fine.datnew.dat',\n",
       " 'dat_files/GBT_57599_55512_HIP45493_fine.datnew.dat',\n",
       " 'dat_files/GBT_57459_34297_HIP65352_fine.datnew.dat',\n",
       " 'dat_files/GBT_57650_54573_HIP66704_fine.datnew.dat',\n",
       " 'dat_files/GBT_57523_22406_HIP74981_fine.datnew.dat',\n",
       " 'dat_files/GBT_57680_15520_HIP7981_fine.datnew.dat',\n",
       " 'dat_files/GBT_57664_79761_HIP82860_fine.datnew.dat']"
      ]
     },
     "execution_count": 13,
     "metadata": {},
     "output_type": "execute_result"
    }
   ],
   "source": [
    "new_dats = glob.glob(\"dat_files/*datnew.dat\")\n",
    "print(\"There are\", len(new_dats), \"files\")\n",
    "new_dats"
   ]
  },
  {
   "cell_type": "code",
   "execution_count": 14,
   "metadata": {},
   "outputs": [
    {
     "name": "stdout",
     "output_type": "stream",
     "text": [
      "spike channels list done\n",
      "end\n",
      "datfile_curr dat_files/GBT_57523_69379_HIP17147_fine.dat\n",
      "done!\n",
      "\n",
      "spike channels list done\n",
      "end\n",
      "datfile_curr dat_files/GBT_57606_50058_HIP20901_fine.dat\n",
      "done!\n",
      "\n",
      "spike channels list done\n",
      "end\n",
      "datfile_curr dat_files/GBT_57456_02669_HIP39826_fine.dat\n",
      "done!\n",
      "\n",
      "spike channels list done\n",
      "end\n",
      "datfile_curr dat_files/GBT_57803_80733_HIP4436_fine.dat\n",
      "done!\n",
      "\n",
      "spike channels list done\n",
      "end\n",
      "datfile_curr dat_files/GBT_57599_55512_HIP45493_fine.dat\n",
      "done!\n",
      "\n",
      "spike channels list done\n",
      "end\n",
      "datfile_curr dat_files/GBT_57459_34297_HIP65352_fine.dat\n",
      "done!\n",
      "\n",
      "spike channels list done\n",
      "end\n",
      "datfile_curr dat_files/GBT_57650_54573_HIP66704_fine.dat\n",
      "done!\n",
      "\n",
      "spike channels list done\n",
      "end\n",
      "datfile_curr dat_files/GBT_57523_22406_HIP74981_fine.dat\n",
      "done!\n",
      "\n",
      "spike channels list done\n",
      "end\n",
      "datfile_curr dat_files/GBT_57680_15520_HIP7981_fine.dat\n",
      "done!\n",
      "\n",
      "spike channels list done\n",
      "end\n",
      "datfile_curr dat_files/GBT_57664_79761_HIP82860_fine.dat\n",
      "done!\n",
      "\n",
      "\n",
      "\n",
      "\n",
      "All Done!\n",
      "It took 7.690665006637573 seconds to process 10 files\n"
     ]
    }
   ],
   "source": [
    "num_course_channels = 512 # setting a global variable for the number of course channels returns the same result\n",
    "                            # this removed the need to know how many channels are in the h5 file\n",
    "#fch1 = 1926.2695326677515 # try hardcoding the initial frequency, this number may need to be raised, but it may be sufficient\n",
    "    \n",
    "    \n",
    "start = time.time()\n",
    "check_fch1 = []\n",
    "check_foff = []\n",
    "check_nfpc = []\n",
    "for i in range(len(dat_files)):\n",
    "    fch1, foff, nfpc = grab_parameters_modified(dat_files[i])\n",
    "    spike_channels_list = spike_channels_modified(num_course_channels, nfpc)\n",
    "    freqs_fine_channels_list = freqs_fine_channels(spike_channels_list,fch1, foff)\n",
    "    wrapper_function(dat_files[i], freqs_fine_channels_list)\n",
    "    check_fch1.append(fch1)\n",
    "    check_foff.append(foff)\n",
    "    check_nfpc.append(nfpc)\n",
    "end = time.time()    \n",
    "\n",
    "print(\"\\n\\n\\nAll Done!\")\n",
    "print(\"It took %s seconds to process %s files\"%(end - start, len(new_dats)))"
   ]
  },
  {
   "cell_type": "markdown",
   "metadata": {},
   "source": [
    "### I am seeing that there is some variation between files for some of the parameters\n",
    "\n",
    "There is small variation in the largest frequency in `fch1`, `foff`, and a larger variation in `nfpc`. I am not sure if using a universal value for all the files will give me the same results."
   ]
  },
  {
   "cell_type": "code",
   "execution_count": 15,
   "metadata": {},
   "outputs": [
    {
     "data": {
      "text/plain": [
       "[1926.2695326677515,\n",
       " 1926.2695326677515,\n",
       " 1926.2695326677515,\n",
       " 1926.2695326677515,\n",
       " 1926.2695326677515,\n",
       " 1926.2695326677515,\n",
       " 1926.2695326677515,\n",
       " 1926.2695326677515,\n",
       " 1926.2695326677515,\n",
       " 1926.2695326677515]"
      ]
     },
     "execution_count": 15,
     "metadata": {},
     "output_type": "execute_result"
    }
   ],
   "source": [
    "check_fch1"
   ]
  },
  {
   "cell_type": "code",
   "execution_count": 16,
   "metadata": {},
   "outputs": [],
   "source": [
    "bin_edges, prob_hist = calculate_proportion(new_dats, bin_width=0.5, GBT=True)"
   ]
  },
  {
   "cell_type": "code",
   "execution_count": 17,
   "metadata": {},
   "outputs": [
    {
     "data": {
      "image/png": "[encoded data removed]",
      "text/plain": [
       "<Figure size 1440x720 with 1 Axes>"
      ]
     },
     "metadata": {
      "needs_background": "light"
     },
     "output_type": "display_data"
    }
   ],
   "source": [
    "plt.figure(figsize=(20, 10))\n",
    "plt.bar(bin_edges[:-1], prob_hist, width=.99)\n",
    "plt.xlabel(\"Frequency [Mhz]\")\n",
    "plt.ylabel(\"Probability of hit\")\n",
    "plt.title(\"GBT L-Band Spectral Occupancy\")\n",
    "plt.savefig(\"Spectral_Occupancy_modified.png\")\n",
    "#plt.xlim(1710, 1750)\n",
    "plt.show()"
   ]
  },
  {
   "cell_type": "code",
   "execution_count": 118,
   "metadata": {},
   "outputs": [
    {
     "data": {
      "text/plain": [
       "1926.0"
      ]
     },
     "execution_count": 118,
     "metadata": {},
     "output_type": "execute_result"
    }
   ],
   "source": [
    "tbl = find.read_dat(dat_files[1])\n",
    "float(tbl[\"DELTAF\"][0])*1e-6\n",
    "tbl[\"Freq\"][0]"
   ]
  },
  {
   "cell_type": "code",
   "execution_count": null,
   "metadata": {},
   "outputs": [],
   "source": []
  }
 ],
 "metadata": {
  "kernelspec": {
   "display_name": "Python 3",
   "language": "python",
   "name": "python3"
  },
  "language_info": {
   "codemirror_mode": {
    "name": "ipython",
    "version": 3
   },
   "file_extension": ".py",
   "mimetype": "text/x-python",
   "name": "python",
   "nbconvert_exporter": "python",
   "pygments_lexer": "ipython3",
   "version": "3.7.6"
  }
 },
 "nbformat": 4,
 "nbformat_minor": 4
}
