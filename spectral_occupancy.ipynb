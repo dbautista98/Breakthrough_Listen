{
 "cells": [
  {
   "cell_type": "code",
   "execution_count": 5,
   "metadata": {},
   "outputs": [],
   "source": [
    "import numpy as np\n",
    "import pandas as pd\n",
    "import matplotlib.pyplot as plt\n",
    "import turbo_seti.find_event as find"
   ]
  },
  {
   "cell_type": "code",
   "execution_count": 2,
   "metadata": {},
   "outputs": [],
   "source": [
    "dat_files = [\n",
    "    \"dat_files/GBT_57523_69379_HIP17147_fine.dat\", \n",
    "    \"dat_files/GBT_57606_50058_HIP20901_fine.dat\",\n",
    "    \"dat_files/GBT_57456_02669_HIP39826_fine.dat\",\n",
    "    \"dat_files/GBT_57803_80733_HIP4436_fine.dat\",  \n",
    "    \"dat_files/GBT_57599_55512_HIP45493_fine.dat\", \n",
    "    \"dat_files/GBT_57459_34297_HIP65352_fine.dat\", \n",
    "    \"dat_files/GBT_57650_54573_HIP66704_fine.dat\", \n",
    "    \"dat_files/GBT_57523_22406_HIP74981_fine.dat\", \n",
    "    \"dat_files/GBT_57680_15520_HIP7981_fine.dat\",  \n",
    "    \"dat_files/GBT_57664_79761_HIP82860_fine.dat\" \n",
    "]"
   ]
  },
  {
   "cell_type": "markdown",
   "metadata": {},
   "source": [
    "# Demo from website\n",
    "\n",
    "https://www.geeksforgeeks.org/scipy-stats-histogram-function-python/"
   ]
  },
  {
   "cell_type": "code",
   "execution_count": 4,
   "metadata": {},
   "outputs": [
    {
     "name": "stdout",
     "output_type": "stream",
     "text": [
      "No. of points in each bin :  [0 2 4 1]\n",
      "Size of the bins          :  [0 1 2 3 4]\n"
     ]
    },
    {
     "data": {
      "image/png": "[encoded data removed]",
      "text/plain": [
       "<Figure size 432x288 with 1 Axes>"
      ]
     },
     "metadata": {
      "needs_background": "light"
     },
     "output_type": "display_data"
    }
   ],
   "source": [
    "# building the histogram  \n",
    "import scipy \n",
    "import numpy as np  \n",
    "import matplotlib.pyplot as plt \n",
    "  \n",
    "hist, bin_edges = np.histogram([1, 1, 2, 2, 2, 2, 3], \n",
    "                                       bins = range(5)) \n",
    "  \n",
    "# Checking the results \n",
    "print (\"No. of points in each bin : \", hist) \n",
    "print (\"Size of the bins          : \", bin_edges) \n",
    "  \n",
    "# plotting the histogram \n",
    "plt.bar(bin_edges[:-1], hist, width = 1) \n",
    "plt.xlim(min(bin_edges), max(bin_edges)) \n",
    "plt.show() "
   ]
  },
  {
   "cell_type": "code",
   "execution_count": 28,
   "metadata": {},
   "outputs": [],
   "source": [
    "def calculate_hist(dat_file): # add a parameter for bin width, currently set to 1Mhz\n",
    "    #read the file into a pandas dataframe\n",
    "    tbl = find.read_dat(dat_file)\n",
    "\n",
    "    #make the bins for the histogram\n",
    "    min_freq = int(min(tbl[\"Freq\"]))\n",
    "    max_freq = np.round(max(tbl[\"Freq\"]))\n",
    "    bins = np.arange(min_freq, max_freq, 1)\n",
    "    hist, bin_edges = np.histogram(tbl[\"Freq\"], bins=bins)\n",
    "    return hist, bin_edges"
   ]
  },
  {
   "cell_type": "code",
   "execution_count": 67,
   "metadata": {},
   "outputs": [],
   "source": [
    "hist0, bin_edges0 = calculate_hist(dat_files[0])\n",
    "hist1, bin_edges1 = calculate_hist(dat_files[1])\n",
    "hist2, bin_edges2 = calculate_hist(dat_files[2])"
   ]
  },
  {
   "cell_type": "code",
   "execution_count": 48,
   "metadata": {},
   "outputs": [
    {
     "data": {
      "text/plain": [
       "1.0"
      ]
     },
     "execution_count": 48,
     "metadata": {},
     "output_type": "execute_result"
    }
   ],
   "source": [
    "np.sum(bin_edges0==bin_edges1)/len(bin_edges0)"
   ]
  },
  {
   "cell_type": "code",
   "execution_count": 68,
   "metadata": {},
   "outputs": [],
   "source": [
    "present0 = hist0 > 0\n",
    "present1 = hist1 > 0\n",
    "present2 = hist1 > 0"
   ]
  },
  {
   "cell_type": "code",
   "execution_count": 69,
   "metadata": {},
   "outputs": [],
   "source": [
    "probs = (present0.astype(int) + present1.astype(int) + present2.astype(int))/3"
   ]
  },
  {
   "cell_type": "code",
   "execution_count": 70,
   "metadata": {},
   "outputs": [
    {
     "data": {
      "text/plain": [
       "<BarContainer object of 900 artists>"
      ]
     },
     "execution_count": 70,
     "metadata": {},
     "output_type": "execute_result"
    },
    {
     "data": {
      "image/png": "[encoded data removed]",
      "text/plain": [
       "<Figure size 432x288 with 1 Axes>"
      ]
     },
     "metadata": {
      "needs_background": "light"
     },
     "output_type": "display_data"
    }
   ],
   "source": [
    "plt.figure()\n",
    "plt.bar(bin_edges[:-1], probs)#, width = 1) "
   ]
  },
  {
   "cell_type": "markdown",
   "metadata": {},
   "source": [
    "One potential issue with just checking if there is a hit in a bin and marking it as true, regardless of how many hits there are, is that there are bins with 1-2 hits and these are regarded the same as bins that have hits in the hundreds. \n",
    "\n",
    "It would be interesting to see if there is a way to account for how many hits there are in the bin. \n",
    "\n",
    "Or this could be resolved with adding more than 3 files to my dataset. "
   ]
  },
  {
   "cell_type": "code",
   "execution_count": null,
   "metadata": {},
   "outputs": [],
   "source": []
  }
 ],
 "metadata": {
  "kernelspec": {
   "display_name": "Python 3",
   "language": "python",
   "name": "python3"
  },
  "language_info": {
   "codemirror_mode": {
    "name": "ipython",
    "version": 3
   },
   "file_extension": ".py",
   "mimetype": "text/x-python",
   "name": "python",
   "nbconvert_exporter": "python",
   "pygments_lexer": "ipython3",
   "version": "3.7.6"
  }
 },
 "nbformat": 4,
 "nbformat_minor": 4
}
